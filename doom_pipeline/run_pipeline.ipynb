{
 "cells": [
  {
   "cell_type": "code",
   "execution_count": null,
   "id": "d438e52e-7cc6-4173-bab6-b5d8804c5b48",
   "metadata": {},
   "outputs": [],
   "source": []
  },
  {
   "cell_type": "code",
   "execution_count": 35,
   "id": "edcee62c-e7c3-4d79-ad5c-0b413884c4f2",
   "metadata": {
    "execution": {
     "iopub.execute_input": "2025-10-17T19:18:12.626246Z",
     "iopub.status.busy": "2025-10-17T19:18:12.625985Z",
     "iopub.status.idle": "2025-10-17T19:47:54.470809Z",
     "shell.execute_reply": "2025-10-17T19:47:54.469918Z",
     "shell.execute_reply.started": "2025-10-17T19:18:12.626225Z"
    }
   },
   "outputs": [
    {
     "name": "stdout",
     "output_type": "stream",
     "text": [
      "sagemaker.config INFO - Not applying SDK defaults from location: /etc/xdg/sagemaker/config.yaml\n",
      "sagemaker.config INFO - Not applying SDK defaults from location: /home/sagemaker-user/.config/sagemaker/config.yaml\n",
      "WARNING:sagemaker.workflow.utilities:The input argument instance_type of function (sagemaker.image_uris.get_training_image_uri) is a pipeline variable (<class 'sagemaker.workflow.parameters.ParameterString'>), which is interpreted in pipeline execution time only. As the function needs to evaluate the argument value in SDK compile time, the default_value of this Parameter object will be used to override it. Please make sure the default_value is valid.\n",
      "INFO:sagemaker.image_uris:image_uri is not presented, retrieving image_uri based on instance_type, framework etc.\n",
      "/opt/conda/lib/python3.12/site-packages/sagemaker/workflow/pipeline_context.py:332: UserWarning: Running within a PipelineSession, there will be No Wait, No Logs, and No Job being started.\n",
      "  warnings.warn(\n",
      "WARNING:sagemaker.workflow.utilities:The input argument instance_type of function (sagemaker.image_uris.get_training_image_uri) is a pipeline variable (<class 'sagemaker.workflow.parameters.ParameterString'>), which is interpreted in pipeline execution time only. As the function needs to evaluate the argument value in SDK compile time, the default_value of this Parameter object will be used to override it. Please make sure the default_value is valid.\n",
      "INFO:sagemaker.image_uris:image_uri is not presented, retrieving image_uri based on instance_type, framework etc.\n",
      "WARNING:sagemaker.workflow.utilities:The input argument instance_type of function (sagemaker.image_uris.get_training_image_uri) is a pipeline variable (<class 'sagemaker.workflow.parameters.ParameterString'>), which is interpreted in pipeline execution time only. As the function needs to evaluate the argument value in SDK compile time, the default_value of this Parameter object will be used to override it. Please make sure the default_value is valid.\n",
      "WARNING:sagemaker.workflow.utilities:The input argument instance_type of function (sagemaker.image_uris.get_training_image_uri) is a pipeline variable (<class 'sagemaker.workflow.parameters.ParameterString'>), which is interpreted in pipeline execution time only. As the function needs to evaluate the argument value in SDK compile time, the default_value of this Parameter object will be used to override it. Please make sure the default_value is valid.\n",
      "WARNING:sagemaker.deprecations:The class JsonGet has been renamed in sagemaker>=2.\n",
      "See: https://sagemaker.readthedocs.io/en/stable/v2.html for details.\n",
      "INFO:sagemaker.processing:Uploaded None to s3://sagemaker-us-east-1-975049894496/DoomTrainingPipeline/code/0e42c63414499d92db5451321cb2380aeacd3dbfa6d4382a431835b6ffd53356/sourcedir.tar.gz\n",
      "INFO:sagemaker.processing:runproc.sh uploaded to s3://sagemaker-us-east-1-975049894496/DoomTrainingPipeline/code/2d81cafc71733a67a70f26bcabb6b9583dfe9d1fd62292923c43f00e784ecf1b/runproc.sh\n",
      "WARNING:sagemaker.workflow.utilities:Popping out 'ProcessingJobName' from the pipeline definition by default since it will be overridden at pipeline execution time. Please utilize the PipelineDefinitionConfig to persist this field in the pipeline definition if desired.\n",
      "WARNING:sagemaker.workflow.utilities:The input argument instance_type of function (sagemaker.image_uris.get_training_image_uri) is a pipeline variable (<class 'sagemaker.workflow.parameters.ParameterString'>), which is interpreted in pipeline execution time only. As the function needs to evaluate the argument value in SDK compile time, the default_value of this Parameter object will be used to override it. Please make sure the default_value is valid.\n",
      "WARNING:sagemaker.workflow.utilities:Popping out 'TrainingJobName' from the pipeline definition by default since it will be overridden at pipeline execution time. Please utilize the PipelineDefinitionConfig to persist this field in the pipeline definition if desired.\n",
      "INFO:sagemaker.processing:Uploaded None to s3://sagemaker-us-east-1-975049894496/DoomTrainingPipeline/code/079f4d16955a2b65a7537531f3af59b350ef316cc06e766ce3fdf8287148ec76/sourcedir.tar.gz\n",
      "INFO:sagemaker.processing:runproc.sh uploaded to s3://sagemaker-us-east-1-975049894496/DoomTrainingPipeline/code/1de680f13a58371bcae623a94882c9316259bd6263be2afff8e006c05ffceeed/runproc.sh\n",
      "WARNING:sagemaker.workflow.utilities:Popping out 'ProcessingJobName' from the pipeline definition by default since it will be overridden at pipeline execution time. Please utilize the PipelineDefinitionConfig to persist this field in the pipeline definition if desired.\n",
      "WARNING:sagemaker.estimator:No finished training job found associated with this estimator. Please make sure this estimator is only used for building workflow config\n",
      "WARNING:sagemaker.workflow._utils:Popping out 'CertifyForMarketplace' from the pipeline definition since it will be overridden in pipeline execution time.\n",
      "WARNING:sagemaker.workflow.utilities:Popping out 'ModelPackageName' from the pipeline definition by default since it will be overridden at pipeline execution time. Please utilize the PipelineDefinitionConfig to persist this field in the pipeline definition if desired.\n",
      "WARNING:sagemaker.workflow.utilities:Popping out 'ModelName' from the pipeline definition by default since it will be overridden at pipeline execution time. Please utilize the PipelineDefinitionConfig to persist this field in the pipeline definition if desired.\n",
      "WARNING:sagemaker.workflow.utilities:Popping out 'TransformJobName' from the pipeline definition by default since it will be overridden at pipeline execution time. Please utilize the PipelineDefinitionConfig to persist this field in the pipeline definition if desired.\n",
      "INFO:sagemaker.processing:Uploaded None to s3://sagemaker-us-east-1-975049894496/DoomTrainingPipeline/code/0e42c63414499d92db5451321cb2380aeacd3dbfa6d4382a431835b6ffd53356/sourcedir.tar.gz\n",
      "INFO:sagemaker.processing:runproc.sh uploaded to s3://sagemaker-us-east-1-975049894496/DoomTrainingPipeline/code/2d81cafc71733a67a70f26bcabb6b9583dfe9d1fd62292923c43f00e784ecf1b/runproc.sh\n",
      "WARNING:sagemaker.workflow.utilities:Popping out 'ProcessingJobName' from the pipeline definition by default since it will be overridden at pipeline execution time. Please utilize the PipelineDefinitionConfig to persist this field in the pipeline definition if desired.\n",
      "WARNING:sagemaker.workflow.utilities:The input argument instance_type of function (sagemaker.image_uris.get_training_image_uri) is a pipeline variable (<class 'sagemaker.workflow.parameters.ParameterString'>), which is interpreted in pipeline execution time only. As the function needs to evaluate the argument value in SDK compile time, the default_value of this Parameter object will be used to override it. Please make sure the default_value is valid.\n",
      "WARNING:sagemaker.workflow.utilities:Popping out 'TrainingJobName' from the pipeline definition by default since it will be overridden at pipeline execution time. Please utilize the PipelineDefinitionConfig to persist this field in the pipeline definition if desired.\n",
      "INFO:sagemaker.processing:Uploaded None to s3://sagemaker-us-east-1-975049894496/DoomTrainingPipeline/code/079f4d16955a2b65a7537531f3af59b350ef316cc06e766ce3fdf8287148ec76/sourcedir.tar.gz\n",
      "INFO:sagemaker.processing:runproc.sh uploaded to s3://sagemaker-us-east-1-975049894496/DoomTrainingPipeline/code/1de680f13a58371bcae623a94882c9316259bd6263be2afff8e006c05ffceeed/runproc.sh\n",
      "WARNING:sagemaker.workflow.utilities:Popping out 'ProcessingJobName' from the pipeline definition by default since it will be overridden at pipeline execution time. Please utilize the PipelineDefinitionConfig to persist this field in the pipeline definition if desired.\n",
      "WARNING:sagemaker.estimator:No finished training job found associated with this estimator. Please make sure this estimator is only used for building workflow config\n",
      "WARNING:sagemaker.workflow._utils:Popping out 'CertifyForMarketplace' from the pipeline definition since it will be overridden in pipeline execution time.\n",
      "WARNING:sagemaker.workflow.utilities:Popping out 'ModelPackageName' from the pipeline definition by default since it will be overridden at pipeline execution time. Please utilize the PipelineDefinitionConfig to persist this field in the pipeline definition if desired.\n",
      "WARNING:sagemaker.workflow.utilities:Popping out 'ModelName' from the pipeline definition by default since it will be overridden at pipeline execution time. Please utilize the PipelineDefinitionConfig to persist this field in the pipeline definition if desired.\n",
      "WARNING:sagemaker.workflow.utilities:Popping out 'TransformJobName' from the pipeline definition by default since it will be overridden at pipeline execution time. Please utilize the PipelineDefinitionConfig to persist this field in the pipeline definition if desired.\n",
      "Execution ARN: arn:aws:sagemaker:us-east-1:975049894496:pipeline/DoomTrainingPipeline/execution/lzvwig82xwwe\n",
      "Pipeline execution error: Waiter PipelineExecutionComplete failed: Max attempts exceeded\n",
      "Steps: [{'StepName': 'DoomTrain', 'StartTime': datetime.datetime(2025, 10, 17, 19, 23, 23, 336000, tzinfo=tzlocal()), 'StepStatus': 'Executing', 'Metadata': {'TrainingJob': {'Arn': 'arn:aws:sagemaker:us-east-1:975049894496:training-job/pipelines-lzvwig82xwwe-DoomTrain-BD2o6xVvwl'}}, 'AttemptCount': 1}, {'StepName': 'DoomPreprocess', 'StartTime': datetime.datetime(2025, 10, 17, 19, 18, 18, 643000, tzinfo=tzlocal()), 'EndTime': datetime.datetime(2025, 10, 17, 19, 23, 22, 253000, tzinfo=tzlocal()), 'StepStatus': 'Succeeded', 'Metadata': {'ProcessingJob': {'Arn': 'arn:aws:sagemaker:us-east-1:975049894496:processing-job/pipelines-lzvwig82xwwe-DoomPreprocess-b6K2cRbWgR'}}, 'AttemptCount': 1}]\n"
     ]
    }
   ],
   "source": [
    "!python pipeline.py"
   ]
  },
  {
   "cell_type": "code",
   "execution_count": 1,
   "id": "8caca130-9161-46fd-b568-cc0f44a52161",
   "metadata": {
    "execution": {
     "iopub.execute_input": "2025-10-18T10:04:06.448336Z",
     "iopub.status.busy": "2025-10-18T10:04:06.447960Z",
     "iopub.status.idle": "2025-10-18T10:04:07.265408Z",
     "shell.execute_reply": "2025-10-18T10:04:07.264423Z",
     "shell.execute_reply.started": "2025-10-18T10:04:06.448298Z"
    }
   },
   "outputs": [
    {
     "name": "stdout",
     "output_type": "stream",
     "text": [
      "Execution: arn:aws:sagemaker:us-east-1:975049894496:pipeline/DoomTrainingPipeline/execution/lzvwig82xwwe Failed\n",
      "DoomBatchTransform Failed ClientError: ClientError: API error (400): OCI runtime create failed: runc create failed: unable to start container process: error during container init: exec: \"serve\": executable file not found in $PATH: unknown\n",
      "DoomCreateModel-CreateModel Succeeded None\n",
      "DoomRegisterModel-RegisterModel Succeeded None\n",
      "QualityGate Succeeded None\n",
      "DoomEvaluate Succeeded None\n",
      "DoomTrain Succeeded None\n",
      "DoomPreprocess Succeeded None\n"
     ]
    }
   ],
   "source": [
    "import boto3\n",
    "sm = boto3.client(\"sagemaker\")\n",
    "PIPELINE_NAME = \"DoomTrainingPipeline\"\n",
    "\n",
    "execs = sm.list_pipeline_executions(PipelineName=PIPELINE_NAME, MaxResults=3)[\"PipelineExecutionSummaries\"]\n",
    "assert execs, \"No executions found\"\n",
    "last = execs[0]\n",
    "print(\"Execution:\", last[\"PipelineExecutionArn\"], last[\"PipelineExecutionStatus\"])\n",
    "\n",
    "steps = sm.list_pipeline_execution_steps(PipelineExecutionArn=last[\"PipelineExecutionArn\"])[\"PipelineExecutionSteps\"]\n",
    "for s in steps:\n",
    "    print(s[\"StepName\"], s[\"StepStatus\"], s.get(\"FailureReason\"))\n"
   ]
  },
  {
   "cell_type": "code",
   "execution_count": 4,
   "id": "12b52a4f-5bdb-4193-98a4-a2b104c33905",
   "metadata": {
    "execution": {
     "iopub.execute_input": "2025-10-18T10:37:40.254955Z",
     "iopub.status.busy": "2025-10-18T10:37:40.254646Z",
     "iopub.status.idle": "2025-10-18T10:37:40.539429Z",
     "shell.execute_reply": "2025-10-18T10:37:40.538768Z",
     "shell.execute_reply.started": "2025-10-18T10:37:40.254930Z"
    }
   },
   "outputs": [
    {
     "name": "stdout",
     "output_type": "stream",
     "text": [
      "Eval S3: s3://sagemaker-us-east-1-975049894496/DoomTrainingPipeline/lzvwig82xwwe/DoomEvaluate/output/evaluation\n",
      "F1 in artifact: 0.8940644850839616 <class 'float'>\n"
     ]
    }
   ],
   "source": [
    "# Find eval job for this execution\n",
    "eval_step = next(s for s in steps if s[\"StepName\"] == \"DoomEvaluate\")\n",
    "eval_job = eval_step[\"Metadata\"][\"ProcessingJob\"][\"Arn\"].split(\"/\")[-1]\n",
    "desc = sm.describe_processing_job(ProcessingJobName=eval_job)\n",
    "\n",
    "eval_s3 = next(o[\"S3Output\"][\"S3Uri\"] for o in desc[\"ProcessingOutputConfig\"][\"Outputs\"] if o[\"OutputName\"]==\"evaluation\")\n",
    "print(\"Eval S3:\", eval_s3)\n",
    "\n",
    "import boto3, json\n",
    "s3 = boto3.client(\"s3\")\n",
    "bkt, key = eval_s3.replace(\"s3://\",\"\").split(\"/\",1)\n",
    "obj = s3.get_object(Bucket=bkt, Key=key.rstrip(\"/\") + \"/evaluation.json\")\n",
    "report = json.loads(obj[\"Body\"].read())\n",
    "f1 = report[\"binary_classification_metrics\"][\"macro_avg\"][\"f1\"]\n",
    "print(\"F1 in artifact:\", f1, type(f1))\n"
   ]
  }
 ],
 "metadata": {
  "kernelspec": {
   "display_name": "Python 3 (ipykernel)",
   "language": "python",
   "name": "python3"
  },
  "language_info": {
   "codemirror_mode": {
    "name": "ipython",
    "version": 3
   },
   "file_extension": ".py",
   "mimetype": "text/x-python",
   "name": "python",
   "nbconvert_exporter": "python",
   "pygments_lexer": "ipython3",
   "version": "3.12.9"
  }
 },
 "nbformat": 4,
 "nbformat_minor": 5
}
