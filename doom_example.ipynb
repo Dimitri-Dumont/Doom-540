{
 "cells": [
  {
   "cell_type": "markdown",
   "id": "a05e1d6a",
   "metadata": {},
   "source": [
    "\n",
    "\n",
    "# Dooooooooooom - project - quick start\n",
    "\n",
    "Create a conda environment\n",
    "```bash\n",
    "conda create -n doom-env python=3.11\n",
    "```\n",
    "\n",
    "Activate the conda environment\n",
    "```bash\n",
    "conda activate doom-env\n",
    "```\n",
    "\n",
    "Alternative: Install via pip in conda environment\n",
    "```bash\n",
    "conda activate doom-env\n",
    "pip install vizdoom opencv-python pynput\n",
    "```"
   ]
  },
  {
   "cell_type": "markdown",
   "id": "6bbd58a3",
   "metadata": {},
   "source": [
    "### Example cell spinning up a game instance and feeding the game look random actions\n",
    "![Example Doom Screenshot](image.png)\n"
   ]
  },
  {
   "cell_type": "code",
   "execution_count": null,
   "id": "6106c1d1",
   "metadata": {},
   "outputs": [],
   "source": [
    "!pip install opencv-python\n",
    "!pip install vizdoom\n",
    "!pip install pynput"
   ]
  },
  {
   "cell_type": "code",
   "execution_count": 37,
   "id": "5fcd6e53",
   "metadata": {},
   "outputs": [
    {
     "name": "stdout",
     "output_type": "stream",
     "text": [
      "VizDoom scenarios directory: /opt/homebrew/anaconda3/lib/python3.11/site-packages/vizdoom/scenarios\n",
      "Available scenario configs: ['my_way_home.cfg', 'learning.cfg', 'cig.cfg', 'simpler_basic.cfg', 'multi.cfg', 'predict_position.cfg', 'multi_duel.cfg', 'health_gathering.cfg', 'oblige.cfg', 'health_gathering_supreme.cfg', 'rocket_basic.cfg', 'defend_the_center.cfg', 'take_cover.cfg', 'deadly_corridor.cfg', 'defend_the_line.cfg', 'deathmatch.cfg', 'basic.cfg']\n",
      "Config file not found at: /opt/homebrew/anaconda3/lib/python3.11/site-packages/vizdoom/scenarios/basic.cfg\n",
      "Setting up manual configuration...\n",
      "VizDoom initialized successfully!\n",
      "Available actions: 7 buttons\n",
      "Game closed successfully.\n"
     ]
    }
   ],
   "source": [
    "import vizdoom as vzd\n",
    "import os\n",
    "import random\n",
    "import numpy as np\n",
    "\n",
    "# Create a game instance\n",
    "game = vzd.DoomGame()\n",
    "\n",
    "# Find the scenarios directory in the VizDoom package\n",
    "scenarios_path = os.path.join(os.path.dirname(vzd.__file__), 'scenarios')\n",
    "print(f\"VizDoom scenarios directory: {scenarios_path}\")\n",
    "\n",
    "# Check if scenarios directory exists and list available scenarios\n",
    "if os.path.exists(scenarios_path):\n",
    "    scenarios = [f for f in os.listdir(scenarios_path) if f.endswith('.cfg')]\n",
    "    print(f\"Available scenario configs: {scenarios}\")\n",
    "else:\n",
    "    print(\"Scenarios directory not found!\")\n",
    "\n",
    "# Load basic scenario configuration file\n",
    "basic_config_path = os.path.join(scenarios_path, 'basic.cfg')\n",
    "\n",
    "\n",
    "print(f\"Config file not found at: {basic_config_path}\")\n",
    "print(\"Setting up manual configuration...\")\n",
    "\n",
    "# Manual configuration if config file not found\n",
    "# Set the scenario WAD file path\n",
    "basic_wad_path = os.path.join(scenarios_path, 'basic.wad')\n",
    "game.set_doom_scenario_path(basic_wad_path)\n",
    "game.set_doom_map(\"map02\")\n",
    "\n",
    "# Configure screen and rendering\n",
    "game.set_screen_resolution(vzd.ScreenResolution.RES_640X480)\n",
    "game.set_screen_format(vzd.ScreenFormat.RGB24)\n",
    "game.set_render_hud(False)\n",
    "game.set_render_crosshair(True)\n",
    "game.set_render_weapon(True)\n",
    "game.set_render_decals(False)\n",
    "game.set_render_particles(False)\n",
    "\n",
    "# Add available buttons for the basic scenario\n",
    "game.add_available_button(vzd.Button.MOVE_LEFT)\n",
    "game.add_available_button(vzd.Button.MOVE_RIGHT)\n",
    "game.add_available_button(vzd.Button.MOVE_FORWARD)\n",
    "game.add_available_button(vzd.Button.MOVE_BACKWARD)\n",
    "game.add_available_button(vzd.Button.ATTACK)\n",
    "game.add_available_button(vzd.Button.ALTATTACK)\n",
    "game.add_available_button(vzd.Button.USE)\n",
    "\n",
    "\n",
    "# Set other game parameters\n",
    "game.set_episode_timeout(200)\n",
    "game.set_window_visible(True)\n",
    "game.set_living_reward(-1)\n",
    "\n",
    "# Initialize the game\n",
    "try:\n",
    "    game.init()\n",
    "    print(\"VizDoom initialized successfully!\")\n",
    "    print(f\"Available actions: {len(game.get_available_buttons())} buttons\")\n",
    "    \n",
    "    for i in range(100):\n",
    "        # Get the state\n",
    "        state = game.get_state()\n",
    "        \n",
    "        if state:\n",
    "            # Get screen buffer\n",
    "            screen = state.screen_buffer            \n",
    "            # Perform a random action\n",
    "            # Get number of available buttons\n",
    "            n_buttons = len(game.get_available_buttons())\n",
    "            \n",
    "            # Completely random actions\n",
    "            action = [random.choice([True, False]) for _ in range(n_buttons)]\n",
    "            \n",
    "            reward = game.make_action(action)\n",
    "            \n",
    "            if game.is_episode_finished():\n",
    "                print(\"Episode finished, starting new episode...\")\n",
    "                game.new_episode()\n",
    "        else:\n",
    "            print(\"No state available, breaking...\")\n",
    "            break\n",
    "    \n",
    "    game.close()\n",
    "    print(\"Game closed successfully.\")\n",
    "    \n",
    "except Exception as e:\n",
    "    print(f\"Error initializing VizDoom: {e}\")\n",
    "    game.close()"
   ]
  },
  {
   "cell_type": "markdown",
   "id": "1113b60b",
   "metadata": {},
   "source": [
    "This below cell sets up a class to manage and record manual gameplay. Run class definition and following example cell to play game and generate data. Tweak map variable to change chapter."
   ]
  }
 ],
 "metadata": {
  "kernelspec": {
   "display_name": "Python 3",
   "language": "python",
   "name": "python3"
  },
  "language_info": {
   "codemirror_mode": {
    "name": "ipython",
    "version": 3
   },
   "file_extension": ".py",
   "mimetype": "text/x-python",
   "name": "python",
   "nbconvert_exporter": "python",
   "pygments_lexer": "ipython3",
   "version": "3.11.7"
  }
 },
 "nbformat": 4,
 "nbformat_minor": 5
}
